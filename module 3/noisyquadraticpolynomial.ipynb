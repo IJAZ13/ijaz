{
 "cells": [
  {
   "cell_type": "code",
   "execution_count": 1,
   "metadata": {},
   "outputs": [
    {
     "name": "stdout",
     "output_type": "stream",
     "text": [
      "The coefficients from the linear fit: [101.481   5.966]\n"
     ]
    },
    {
     "name": "stderr",
     "output_type": "stream",
     "text": [
      "C:\\Users\\User5\\AppData\\Local\\Temp\\ipykernel_7264\\298740943.py:20: FutureWarning: `rcond` parameter will change to the default of machine precision times ``max(M, N)`` where M and N are the input matrix dimensions.\n",
      "To use the future default and silence this warning we advise to pass `rcond=None`, to keep using the old, explicitly pass `rcond=-1`.\n",
      "  p1 = np.linalg.lstsq(M1, y)\n",
      "C:\\Users\\User5\\AppData\\Local\\Temp\\ipykernel_7264\\298740943.py:21: FutureWarning: `rcond` parameter will change to the default of machine precision times ``max(M, N)`` where M and N are the input matrix dimensions.\n",
      "To use the future default and silence this warning we advise to pass `rcond=None`, to keep using the old, explicitly pass `rcond=-1`.\n",
      "  p2 = np.linalg.lstsq(M2, y)\n",
      "C:\\Users\\User5\\AppData\\Local\\Temp\\ipykernel_7264\\298740943.py:22: FutureWarning: `rcond` parameter will change to the default of machine precision times ``max(M, N)`` where M and N are the input matrix dimensions.\n",
      "To use the future default and silence this warning we advise to pass `rcond=None`, to keep using the old, explicitly pass `rcond=-1`.\n",
      "  p3 = np.linalg.lstsq(M3, y)\n"
     ]
    }
   ],
   "source": [
    "import numpy as np\n",
    "\n",
    "import matplotlib.pyplot as plt\n",
    "\n",
    "#Generate a noisy, slightly quadratic dataset\n",
    "\n",
    "x = np.arange(100)\n",
    "y = 150 + 3*x + 0.03*x**2 + 5*np.random.randn(len(x))\n",
    "\n",
    "# Create the Design Matrices for the linear, quadratic, and cubic fit\n",
    "\n",
    "M1 = np.vstack( (np.ones_like(x), x) ).T\n",
    "M2 = np.vstack( (np.ones_like(x), x, x**2) ).T\n",
    "M3 = np.vstack( (np.ones_like(x), x, x**2, x**3) ).T\n",
    "\n",
    "# an equivalent alternative solution with statsmodels would be \n",
    "# M1 = sm.add_constant(x)\n",
    "\n",
    "# Solve the equations\n",
    "p1 = np.linalg.lstsq(M1, y)\n",
    "p2 = np.linalg.lstsq(M2, y)\n",
    "p3 = np.linalg.lstsq(M3, y)\n",
    "\n",
    "np.set_printoptions(precision=3)\n",
    "print('The coefficients from the linear fit: {0}'.format(p1[0]))"
   ]
  }
 ],
 "metadata": {
  "kernelspec": {
   "display_name": "Python 3.10.5 64-bit",
   "language": "python",
   "name": "python3"
  },
  "language_info": {
   "codemirror_mode": {
    "name": "ipython",
    "version": 3
   },
   "file_extension": ".py",
   "mimetype": "text/x-python",
   "name": "python",
   "nbconvert_exporter": "python",
   "pygments_lexer": "ipython3",
   "version": "3.10.5"
  },
  "orig_nbformat": 4,
  "vscode": {
   "interpreter": {
    "hash": "233620a480a916290135efe2c9b4a91076b4cc2f175e2c8afc50594d4d800d97"
   }
  }
 },
 "nbformat": 4,
 "nbformat_minor": 2
}
