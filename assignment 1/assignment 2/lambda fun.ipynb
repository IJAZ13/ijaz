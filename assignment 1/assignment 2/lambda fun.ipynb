{
 "cells": [
  {
   "cell_type": "code",
   "execution_count": 5,
   "metadata": {},
   "outputs": [
    {
     "name": "stdout",
     "output_type": "stream",
     "text": [
      "Cube of value is :  27\n",
      "Area of Rectangle is :  6\n",
      "Area of Square is :  9\n",
      "Circumference of Circle is :  31.41592653589793\n",
      "Area of Triangle is :  17.5\n"
     ]
    }
   ],
   "source": [
    "\n",
    "# return lambda\n",
    "def cube():\n",
    "    return lambda y: y*y*y\n",
    "\n",
    "# L1 will act as function name in place of lambda\n",
    "L1=cube()\n",
    "print(\"Cube of value is : \",L1(3))\n",
    "\n",
    "\n",
    "# return lambda\n",
    "def area():\n",
    "    return lambda l,b: l * b\n",
    "\n",
    "# L1 will act as function name in place of lambda\n",
    "L1=area()\n",
    "print(\"Area of Rectangle is : \",L1(3,2))\n",
    "    \n",
    "# return lambda\n",
    "def area():\n",
    "    return lambda a: a * a\n",
    "\n",
    "# L1 will act as function name in place of lambda\n",
    "L1=area()\n",
    "print(\"Area of Square is : \",L1(3))\n",
    "\n",
    "import math\n",
    "\n",
    "# return lambda\n",
    "def Circumference():\n",
    "    return lambda r: 2 * math.pi * r\n",
    "\n",
    "# L1 will act as function name in place of lambda\n",
    "L1=Circumference()\n",
    "print(\"Circumference of Circle is : \",L1(5))\n",
    "\n",
    "\n",
    "# return lambda\n",
    "def Circumference():\n",
    "    return lambda b,h: 0.5 * b * h\n",
    "\n",
    "# L1 will act as function name in place of lambda\n",
    "L1=Circumference()\n",
    "print(\"Area of Triangle is : \",L1(5,7))\n"
   ]
  }
 ],
 "metadata": {
  "kernelspec": {
   "display_name": "Python 3.10.5 64-bit",
   "language": "python",
   "name": "python3"
  },
  "language_info": {
   "codemirror_mode": {
    "name": "ipython",
    "version": 3
   },
   "file_extension": ".py",
   "mimetype": "text/x-python",
   "name": "python",
   "nbconvert_exporter": "python",
   "pygments_lexer": "ipython3",
   "version": "3.10.5"
  },
  "orig_nbformat": 4,
  "vscode": {
   "interpreter": {
    "hash": "233620a480a916290135efe2c9b4a91076b4cc2f175e2c8afc50594d4d800d97"
   }
  }
 },
 "nbformat": 4,
 "nbformat_minor": 2
}
