{
 "cells": [
  {
   "cell_type": "code",
   "execution_count": null,
   "metadata": {},
   "outputs": [],
   "source": []
  },
  {
   "cell_type": "code",
   "execution_count": null,
   "metadata": {},
   "outputs": [],
   "source": []
  },
  {
   "cell_type": "code",
   "execution_count": 4,
   "metadata": {},
   "outputs": [
    {
     "ename": "FileNotFoundError",
     "evalue": "[Errno 2] No such file or directory: 'netflix.csv'",
     "output_type": "error",
     "traceback": [
      "\u001b[1;31m---------------------------------------------------------------------------\u001b[0m",
      "\u001b[1;31mFileNotFoundError\u001b[0m                         Traceback (most recent call last)",
      "\u001b[1;32mf:\\ijaz\\assignment 1\\assignment 2\\assignment 3\\readcsv.ipynb Cell 1\u001b[0m in \u001b[0;36m<cell line: 4>\u001b[1;34m()\u001b[0m\n\u001b[0;32m      <a href='vscode-notebook-cell:/f%3A/ijaz/assignment%201/assignment%202/assignment%203/readcsv.ipynb#ch0000000?line=0'>1</a>\u001b[0m \u001b[39m#netflix dataset\u001b[39;00m\n\u001b[0;32m      <a href='vscode-notebook-cell:/f%3A/ijaz/assignment%201/assignment%202/assignment%203/readcsv.ipynb#ch0000000?line=1'>2</a>\u001b[0m \u001b[39mimport\u001b[39;00m \u001b[39mcsv\u001b[39;00m\n\u001b[1;32m----> <a href='vscode-notebook-cell:/f%3A/ijaz/assignment%201/assignment%202/assignment%203/readcsv.ipynb#ch0000000?line=3'>4</a>\u001b[0m \u001b[39mwith\u001b[39;00m \u001b[39mopen\u001b[39;49m (\u001b[39m'\u001b[39;49m\u001b[39mnetflix.csv\u001b[39;49m\u001b[39m'\u001b[39;49m,mode\u001b[39m=\u001b[39;49m\u001b[39m'\u001b[39;49m\u001b[39mr\u001b[39;49m\u001b[39m'\u001b[39;49m) \u001b[39mas\u001b[39;00m fd:\n\u001b[0;32m      <a href='vscode-notebook-cell:/f%3A/ijaz/assignment%201/assignment%202/assignment%203/readcsv.ipynb#ch0000000?line=4'>5</a>\u001b[0m     csvFile \u001b[39m=\u001b[39m csv\u001b[39m.\u001b[39mDictReader(fd)\n\u001b[0;32m      <a href='vscode-notebook-cell:/f%3A/ijaz/assignment%201/assignment%202/assignment%203/readcsv.ipynb#ch0000000?line=6'>7</a>\u001b[0m     \u001b[39mfor\u001b[39;00m data \u001b[39min\u001b[39;00m csvFile:\n",
      "\u001b[1;31mFileNotFoundError\u001b[0m: [Errno 2] No such file or directory: 'netflix.csv'"
     ]
    }
   ],
   "source": [
    "#netflix dataset\n",
    "import csv\n",
    "\n",
    "with open ('netflix.csv',mode='r') as fd:\n",
    "    csvFile = csv.DictReader(fd)\n",
    "\n",
    "    for data in csvFile:\n",
    "        print(data)"
   ]
  }
 ],
 "metadata": {
  "kernelspec": {
   "display_name": "Python 3.10.5 64-bit",
   "language": "python",
   "name": "python3"
  },
  "language_info": {
   "codemirror_mode": {
    "name": "ipython",
    "version": 3
   },
   "file_extension": ".py",
   "mimetype": "text/x-python",
   "name": "python",
   "nbconvert_exporter": "python",
   "pygments_lexer": "ipython3",
   "version": "3.10.5"
  },
  "orig_nbformat": 4,
  "vscode": {
   "interpreter": {
    "hash": "233620a480a916290135efe2c9b4a91076b4cc2f175e2c8afc50594d4d800d97"
   }
  }
 },
 "nbformat": 4,
 "nbformat_minor": 2
}
