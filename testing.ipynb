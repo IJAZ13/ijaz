{
 "cells": [
  {
   "cell_type": "code",
   "execution_count": 10,
   "metadata": {},
   "outputs": [
    {
     "name": "stdout",
     "output_type": "stream",
     "text": [
      "[10, 20, 40]\n"
     ]
    },
    {
     "ename": "TypeError",
     "evalue": "insert expected 2 arguments, got 3",
     "output_type": "error",
     "traceback": [
      "\u001b[1;31m---------------------------------------------------------------------------\u001b[0m",
      "\u001b[1;31mTypeError\u001b[0m                                 Traceback (most recent call last)",
      "\u001b[1;32mf:\\ijaz\\testing.ipynb Cell 1\u001b[0m in \u001b[0;36m<cell line: 5>\u001b[1;34m()\u001b[0m\n\u001b[0;32m      <a href='vscode-notebook-cell:/f%3A/ijaz/testing.ipynb#ch0000000?line=2'>3</a>\u001b[0m list1\u001b[39m.\u001b[39mappend(\u001b[39m40\u001b[39m)\n\u001b[0;32m      <a href='vscode-notebook-cell:/f%3A/ijaz/testing.ipynb#ch0000000?line=3'>4</a>\u001b[0m \u001b[39mprint\u001b[39m(list1)\n\u001b[1;32m----> <a href='vscode-notebook-cell:/f%3A/ijaz/testing.ipynb#ch0000000?line=4'>5</a>\u001b[0m list2 \u001b[39m=\u001b[39m list1\u001b[39m.\u001b[39;49minsert(\u001b[39m4\u001b[39;49m,\u001b[39m40\u001b[39;49m,\u001b[39m5\u001b[39;49m)\n\u001b[0;32m      <a href='vscode-notebook-cell:/f%3A/ijaz/testing.ipynb#ch0000000?line=5'>6</a>\u001b[0m \u001b[39mprint\u001b[39m(list2)\n",
      "\u001b[1;31mTypeError\u001b[0m: insert expected 2 arguments, got 3"
     ]
    }
   ],
   "source": [
    "list1=[10,20]\n",
    "list2=[30,50]\n",
    "list1.append(40)\n",
    "print(list1)\n",
    "list2 = list1.insert(4,40,5)\n",
    "print(list2)"
   ]
  }
 ],
 "metadata": {
  "kernelspec": {
   "display_name": "Python 3.10.5 64-bit",
   "language": "python",
   "name": "python3"
  },
  "language_info": {
   "codemirror_mode": {
    "name": "ipython",
    "version": 3
   },
   "file_extension": ".py",
   "mimetype": "text/x-python",
   "name": "python",
   "nbconvert_exporter": "python",
   "pygments_lexer": "ipython3",
   "version": "3.10.5"
  },
  "orig_nbformat": 4,
  "vscode": {
   "interpreter": {
    "hash": "233620a480a916290135efe2c9b4a91076b4cc2f175e2c8afc50594d4d800d97"
   }
  }
 },
 "nbformat": 4,
 "nbformat_minor": 2
}
