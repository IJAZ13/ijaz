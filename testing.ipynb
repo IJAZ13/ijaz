{
 "cells": [
  {
   "cell_type": "code",
   "execution_count": 26,
   "metadata": {},
   "outputs": [
    {
     "name": "stdout",
     "output_type": "stream",
     "text": [
      "[10, 20, 30, 40, 40]\n",
      "[10, 20, 30, 30, 40, 40]\n",
      "30\n",
      "[10, 30, 40, 40]\n",
      "[40, 40, 30, 10]\n",
      "[10, 30, 40, 40]\n"
     ]
    }
   ],
   "source": [
    "list1=[10,20,30,40]\n",
    "list1.append(40)\n",
    "print(list1)\n",
    "list1.insert(3,30,)\n",
    "print(list1)\n",
    "print(list1.pop(2))\n",
    "list1.remove(20)\n",
    "print(list1)\n",
    "list1.reverse()\n",
    "print(list1)\n",
    "list1.sort()\n",
    "print(list1)"
   ]
  }
 ],
 "metadata": {
  "kernelspec": {
   "display_name": "Python 3.10.5 64-bit",
   "language": "python",
   "name": "python3"
  },
  "language_info": {
   "codemirror_mode": {
    "name": "ipython",
    "version": 3
   },
   "file_extension": ".py",
   "mimetype": "text/x-python",
   "name": "python",
   "nbconvert_exporter": "python",
   "pygments_lexer": "ipython3",
   "version": "3.10.5"
  },
  "orig_nbformat": 4,
  "vscode": {
   "interpreter": {
    "hash": "233620a480a916290135efe2c9b4a91076b4cc2f175e2c8afc50594d4d800d97"
   }
  }
 },
 "nbformat": 4,
 "nbformat_minor": 2
}
