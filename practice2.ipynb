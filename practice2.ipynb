{
 "cells": [
  {
   "cell_type": "code",
   "execution_count": 39,
   "metadata": {},
   "outputs": [
    {
     "name": "stdout",
     "output_type": "stream",
     "text": [
      "[2, 5, 3, 1, 2, 2, 30]\n",
      "[1, 2, 2, 2, 3, 5, 30]\n",
      "[1, 2, 2, 2, 5, 30]\n",
      "[1, 2, 2, 2, 6, 5, 30]\n",
      "[30, 5, 6, 2, 2, 2, 1]\n",
      "[30, 5, 2, 2, 2, 1]\n"
     ]
    },
    {
     "ename": "AttributeError",
     "evalue": "'list' object has no attribute 'set'",
     "output_type": "error",
     "traceback": [
      "\u001b[1;31m---------------------------------------------------------------------------\u001b[0m",
      "\u001b[1;31mAttributeError\u001b[0m                            Traceback (most recent call last)",
      "\u001b[1;32mf:\\ijaz\\.ipynb Cell 1\u001b[0m in \u001b[0;36m<cell line: 16>\u001b[1;34m()\u001b[0m\n\u001b[0;32m     <a href='vscode-notebook-cell:/f%3A/ijaz/.ipynb#ch0000000?line=13'>14</a>\u001b[0m \u001b[39mprint\u001b[39m(list1)\n\u001b[0;32m     <a href='vscode-notebook-cell:/f%3A/ijaz/.ipynb#ch0000000?line=14'>15</a>\u001b[0m list1\u001b[39m.\u001b[39mcount(\u001b[39m2\u001b[39m)\n\u001b[1;32m---> <a href='vscode-notebook-cell:/f%3A/ijaz/.ipynb#ch0000000?line=15'>16</a>\u001b[0m list1\u001b[39m.\u001b[39;49mset(a,b,c)\n\u001b[0;32m     <a href='vscode-notebook-cell:/f%3A/ijaz/.ipynb#ch0000000?line=16'>17</a>\u001b[0m \u001b[39mprint\u001b[39m(list1)\n",
      "\u001b[1;31mAttributeError\u001b[0m: 'list' object has no attribute 'set'"
     ]
    }
   ],
   "source": [
    "#practice 2\n",
    "list1=[2,5,3,1,2,2]\n",
    "list1.append(30)\n",
    "print(list1)\n",
    "list1.sort()\n",
    "print(list1)\n",
    "list1.remove(3)\n",
    "print(list1)\n",
    "list1.insert(4,6)\n",
    "print(list1)\n",
    "list1.reverse()\n",
    "print(list1)\n",
    "list1.pop(2)\n",
    "print(list1)\n",
    "list1.count(2)\n",
    "\n",
    "\n",
    "\n",
    "\n"
   ]
  }
 ],
 "metadata": {
  "kernelspec": {
   "display_name": "Python 3.10.5 64-bit",
   "language": "python",
   "name": "python3"
  },
  "language_info": {
   "codemirror_mode": {
    "name": "ipython",
    "version": 3
   },
   "file_extension": ".py",
   "mimetype": "text/x-python",
   "name": "python",
   "nbconvert_exporter": "python",
   "pygments_lexer": "ipython3",
   "version": "3.10.5"
  },
  "orig_nbformat": 4,
  "vscode": {
   "interpreter": {
    "hash": "233620a480a916290135efe2c9b4a91076b4cc2f175e2c8afc50594d4d800d97"
   }
  }
 },
 "nbformat": 4,
 "nbformat_minor": 2
}
