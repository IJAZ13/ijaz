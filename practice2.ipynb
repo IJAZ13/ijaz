{
 "cells": [
  {
   "cell_type": "code",
   "execution_count": 1,
   "metadata": {},
   "outputs": [
    {
     "name": "stdout",
     "output_type": "stream",
     "text": [
      "[2, 5, 3, 1, 2, 2, 30]\n",
      "[1, 2, 2, 2, 3, 5, 30]\n",
      "[1, 2, 2, 2, 5, 30]\n",
      "[1, 2, 2, 2, 6, 5, 30]\n",
      "[30, 5, 6, 2, 2, 2, 1]\n",
      "[30, 5, 2, 2, 2, 1]\n"
     ]
    },
    {
     "data": {
      "text/plain": [
       "3"
      ]
     },
     "execution_count": 1,
     "metadata": {},
     "output_type": "execute_result"
    }
   ],
   "source": [
    "#practice 2\n",
    "list1=[2,5,3,1,2,2]\n",
    "list1.append(30)\n",
    "print(list1)\n",
    "list1.sort()\n",
    "print(list1)\n",
    "list1.remove(3)\n",
    "print(list1)\n",
    "list1.insert(4,6)\n",
    "print(list1)\n",
    "list1.reverse()\n",
    "print(list1)\n",
    "list1.pop(2)\n",
    "print(list1)\n",
    "list1.count(2)\n",
    "\n",
    "\n",
    "\n",
    "\n"
   ]
  }
 ],
 "metadata": {
  "kernelspec": {
   "display_name": "Python 3.10.5 64-bit",
   "language": "python",
   "name": "python3"
  },
  "language_info": {
   "codemirror_mode": {
    "name": "ipython",
    "version": 3
   },
   "file_extension": ".py",
   "mimetype": "text/x-python",
   "name": "python",
   "nbconvert_exporter": "python",
   "pygments_lexer": "ipython3",
   "version": "3.10.5"
  },
  "orig_nbformat": 4,
  "vscode": {
   "interpreter": {
    "hash": "233620a480a916290135efe2c9b4a91076b4cc2f175e2c8afc50594d4d800d97"
   }
  }
 },
 "nbformat": 4,
 "nbformat_minor": 2
}
