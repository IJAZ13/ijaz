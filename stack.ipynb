{
 "cells": [
  {
   "cell_type": "code",
   "execution_count": null,
   "metadata": {},
   "outputs": [],
   "source": [
    "#stack\n",
    "stack=[]\n",
    "stack.append(1)\n",
    "stack.append(2)\n",
    "stack.append(3)\n",
    "stack.append(4)\n",
    "print(\"the stack is\",stack)\n",
    "stack.pop()\n",
    "print(stack)\n",
    "\n",
    "\n"
   ]
  },
  {
   "cell_type": "code",
   "execution_count": null,
   "metadata": {},
   "outputs": [],
   "source": [
    "#stack2\n",
    "stack=[1,2,4,3,6]\n",
    "stack.append(8)\n",
    "print(stack)\n",
    "stack.pop(2)\n",
    "print(stack)"
   ]
  },
  {
   "cell_type": "code",
   "execution_count": 23,
   "metadata": {},
   "outputs": [
    {
     "name": "stdout",
     "output_type": "stream",
     "text": [
      "64 bytes\n",
      "28 bytes\n"
     ]
    }
   ],
   "source": [
    "#TUPLE \n",
    "import sys\n",
    "list1=[1]\n",
    "tuple1=(1)\n",
    "print(sys.getsizeof(list1),'bytes')\n",
    "print(sys.getsizeof(tuple1),'bytes')"
   ]
  },
  {
   "cell_type": "code",
   "execution_count": 26,
   "metadata": {},
   "outputs": [
    {
     "name": "stdout",
     "output_type": "stream",
     "text": [
      "people('a', 'b', 'c')\n"
     ]
    },
    {
     "ename": "AttributeError",
     "evalue": "'tuple' object has no attribute 'add'",
     "output_type": "error",
     "traceback": [
      "\u001b[1;31m---------------------------------------------------------------------------\u001b[0m",
      "\u001b[1;31mAttributeError\u001b[0m                            Traceback (most recent call last)",
      "\u001b[1;32mf:\\ijaz\\stack.ipynb Cell 4\u001b[0m in \u001b[0;36m<cell line: 8>\u001b[1;34m()\u001b[0m\n\u001b[0;32m      <a href='vscode-notebook-cell:/f%3A/ijaz/stack.ipynb#ch0000008?line=4'>5</a>\u001b[0m \u001b[39mprint\u001b[39m(people)\n\u001b[0;32m      <a href='vscode-notebook-cell:/f%3A/ijaz/stack.ipynb#ch0000008?line=5'>6</a>\u001b[0m \u001b[39m#this will add d\u001b[39;00m\n\u001b[0;32m      <a href='vscode-notebook-cell:/f%3A/ijaz/stack.ipynb#ch0000008?line=6'>7</a>\u001b[0m \u001b[39m#in the set\u001b[39;00m\n\u001b[1;32m----> <a href='vscode-notebook-cell:/f%3A/ijaz/stack.ipynb#ch0000008?line=7'>8</a>\u001b[0m people\u001b[39m.\u001b[39;49madd(\u001b[39m\"\u001b[39m\u001b[39md\u001b[39m\u001b[39m\"\u001b[39m)\n\u001b[0;32m      <a href='vscode-notebook-cell:/f%3A/ijaz/stack.ipynb#ch0000008?line=8'>9</a>\u001b[0m \u001b[39m#adding elements to the\u001b[39;00m\n\u001b[0;32m     <a href='vscode-notebook-cell:/f%3A/ijaz/stack.ipynb#ch0000008?line=9'>10</a>\u001b[0m \u001b[39m#set using iterator\u001b[39;00m\n\u001b[0;32m     <a href='vscode-notebook-cell:/f%3A/ijaz/stack.ipynb#ch0000008?line=10'>11</a>\u001b[0m \u001b[39mfor\u001b[39;00m i \u001b[39min\u001b[39;00m \u001b[39mrange\u001b[39m(\u001b[39m1\u001b[39m,\u001b[39m6\u001b[39m):\n",
      "\u001b[1;31mAttributeError\u001b[0m: 'tuple' object has no attribute 'add'"
     ]
    }
   ],
   "source": [
    "#creating set\n",
    "people=(\"a\",\"b\",\"c\")\n",
    "\n",
    "print(\"people\",end=\"\")\n",
    "print(people)\n",
    "#this will add d\n",
    "#in the set\n",
    "people.add(\"d\")\n",
    "#adding elements to the\n",
    "#set using iterator\n",
    "for i in range(1,6):\n",
    "    people.add(i)\n",
    "    "
   ]
  },
  {
   "cell_type": "code",
   "execution_count": 35,
   "metadata": {},
   "outputs": [
    {
     "name": "stdout",
     "output_type": "stream",
     "text": [
      "union using union()function\n",
      "{'a', 'd', 'e', 'b', 'c'}\n",
      "\n",
      " union using 'I' operator\n",
      "{'a', 'g', 'b', 'c', 'f'}\n",
      "{'a', 'g', 'b', 'c', 'f'}\n"
     ]
    }
   ],
   "source": [
    "#union\n",
    "people={\"a\",\"b\",\"c\"}\n",
    "vampires={\"d\",\"e\"}\n",
    "dracula={\"f\",\"g\"}\n",
    "#union using union()\n",
    "#function\n",
    "population=people.union(vampires)\n",
    "print(\"union using union()function\")\n",
    "print(population)\n",
    "#union using \"I\"\n",
    "#operator\n",
    "population=people|dracula\n",
    "print(\"\\n union using 'I' operator\")\n",
    "print(population)\n",
    "print(people|dracula)"
   ]
  },
  {
   "cell_type": "code",
   "execution_count": 38,
   "metadata": {},
   "outputs": [
    {
     "name": "stdout",
     "output_type": "stream",
     "text": [
      "intersection using intersection()function\n",
      "{2, 3, 4}\n",
      "\n",
      "intersection using '&' operator\n",
      "{2, 3, 4}\n"
     ]
    }
   ],
   "source": [
    "#intersection\n",
    "set1=set()\n",
    "set2=set()\n",
    "for i in range(0,5):\n",
    "    set1.add(i)\n",
    "    for i in range(2,6):\n",
    "        set2.add(i)\n",
    "#intersection()function\n",
    "set3=set1.intersection(set2)\n",
    "print(\"intersection using intersection()function\")\n",
    "print(set3)\n",
    "#intersection using\n",
    "#\"&\"operator\n",
    "set3=set1&set2\n",
    "print(\"\\nintersection using '&' operator\")\n",
    "print(set3)"
   ]
  },
  {
   "cell_type": "code",
   "execution_count": 39,
   "metadata": {},
   "outputs": [
    {
     "name": "stdout",
     "output_type": "stream",
     "text": [
      "difference of two sets using difference() function\n",
      "{0, 1, 2}\n",
      "\n",
      "difference of two sets'-' operators\n",
      "{0, 1, 2}\n"
     ]
    }
   ],
   "source": [
    "set1=set()\n",
    "set2=set()\n",
    "for i in range(5):\n",
    "    set1.add(i)\n",
    "    for i in range(3,9):\n",
    "        set2.add(i)\n",
    "#difference of two sets\n",
    "#using difference()function\n",
    "set3=set1.difference(set2)\n",
    "print(\"difference of two sets using difference() function\")\n",
    "print(set3)\n",
    "#difference of two sets\n",
    "#using'-'operator\n",
    "set3=set1-set2\n",
    "print(\"\\ndifference of two sets'-' operators\")\n",
    "print(set3)"
   ]
  },
  {
   "cell_type": "code",
   "execution_count": 42,
   "metadata": {},
   "outputs": [
    {
     "name": "stdout",
     "output_type": "stream",
     "text": [
      "set is not subset\n"
     ]
    }
   ],
   "source": [
    "set1=set()\n",
    "set2=set()\n",
    "for i in range(5):\n",
    "    #0,1,2,3,4\n",
    "    set1.add(i)\n",
    "    for i in range(3,9): \n",
    "        set2.add(i)\n",
    "if set1<set2:\n",
    "    print('set is subset')\n",
    "else:\n",
    "    print('set is not subset')\n"
   ]
  }
 ],
 "metadata": {
  "kernelspec": {
   "display_name": "Python 3.10.5 64-bit",
   "language": "python",
   "name": "python3"
  },
  "language_info": {
   "codemirror_mode": {
    "name": "ipython",
    "version": 3
   },
   "file_extension": ".py",
   "mimetype": "text/x-python",
   "name": "python",
   "nbconvert_exporter": "python",
   "pygments_lexer": "ipython3",
   "version": "3.10.5"
  },
  "orig_nbformat": 4,
  "vscode": {
   "interpreter": {
    "hash": "233620a480a916290135efe2c9b4a91076b4cc2f175e2c8afc50594d4d800d97"
   }
  }
 },
 "nbformat": 4,
 "nbformat_minor": 2
}
