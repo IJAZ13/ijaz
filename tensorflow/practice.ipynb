{
 "cells": [
  {
   "cell_type": "code",
   "execution_count": 1,
   "metadata": {},
   "outputs": [
    {
     "name": "stdout",
     "output_type": "stream",
     "text": [
      "<class 'str'>\n"
     ]
    }
   ],
   "source": [
    "atuple=(\"orange\")\n",
    "print(type(atuple))"
   ]
  },
  {
   "cell_type": "code",
   "execution_count": 2,
   "metadata": {},
   "outputs": [
    {
     "name": "stdout",
     "output_type": "stream",
     "text": [
      "(100, 100)\n"
     ]
    }
   ],
   "source": [
    "atuple=(100,)\n",
    "print(atuple*2)"
   ]
  },
  {
   "cell_type": "code",
   "execution_count": 6,
   "metadata": {},
   "outputs": [
    {
     "name": "stdout",
     "output_type": "stream",
     "text": [
      "0\n",
      "1\n",
      "2\n",
      "2\n"
     ]
    }
   ],
   "source": [
    "a=[0,1,2,3]\n",
    "for a[-1]in a:\n",
    "    print(a[-1])"
   ]
  },
  {
   "cell_type": "code",
   "execution_count": 8,
   "metadata": {},
   "outputs": [
    {
     "name": "stdout",
     "output_type": "stream",
     "text": [
      "please select the operation\n",
      "a. Add\n",
      "b. subtract\n",
      "c. multiply\n",
      "d. divide\n",
      "4 * 3 = 12\n"
     ]
    }
   ],
   "source": [
    "#calculator\n",
    "def add(P,Q):\n",
    "    return P+Q\n",
    "def subtract(P,Q):\n",
    "    return P-Q\n",
    "def multiply(P,Q):\n",
    "    return P*Q\n",
    "def divide(P,Q):\n",
    "    return P/Q\n",
    "\n",
    "print(\"please select the operation\")\n",
    "print(\"a. Add\")\n",
    "print(\"b. subtract\")\n",
    "print(\"c. multiply\")\n",
    "print(\"d. divide\")\n",
    "\n",
    "choice = input(\"please enter choice (a/b/c/d): \")\n",
    "\n",
    "num_1 = int (input (\"please enter the first number:\"))\n",
    "num_2 = int (input (\"please enter the second number:\"))\n",
    "\n",
    "if choice =='a':\n",
    "    print(num_1, \"+\", num_2, \"=\", add(num_1, num_2))\n",
    "    \n",
    "elif choice =='b':\n",
    "    print(num_1, \"-\", num_2, \"=\", subtract(num_1, num_2))\n",
    "    \n",
    "elif choice =='c':\n",
    "    print(num_1, \"*\", num_2, \"=\", multiply(num_1, num_2))\n",
    "    \n",
    "elif choice =='d':\n",
    "    print(num_1, \"/\", num_2, \"=\", divide(num_1, num_2))\n",
    "    \n",
    "else:\n",
    "    print (\"this is an invalid input\")    "
   ]
  }
 ],
 "metadata": {
  "kernelspec": {
   "display_name": "Python 3.10.7 64-bit",
   "language": "python",
   "name": "python3"
  },
  "language_info": {
   "codemirror_mode": {
    "name": "ipython",
    "version": 3
   },
   "file_extension": ".py",
   "mimetype": "text/x-python",
   "name": "python",
   "nbconvert_exporter": "python",
   "pygments_lexer": "ipython3",
   "version": "3.10.7"
  },
  "orig_nbformat": 4,
  "vscode": {
   "interpreter": {
    "hash": "233620a480a916290135efe2c9b4a91076b4cc2f175e2c8afc50594d4d800d97"
   }
  }
 },
 "nbformat": 4,
 "nbformat_minor": 2
}
