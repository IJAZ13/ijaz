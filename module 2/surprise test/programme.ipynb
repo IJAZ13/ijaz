{
 "cells": [
  {
   "cell_type": "code",
   "execution_count": 21,
   "metadata": {},
   "outputs": [
    {
     "name": "stdout",
     "output_type": "stream",
     "text": [
      "power of  1 is : 1\n",
      "power of  2 is : 4\n",
      "power of  3 is : 9\n"
     ]
    }
   ],
   "source": [
    "#python program to find the power of a numbers in a list using a recursion\n",
    "def power(n):\n",
    "    ans=(n**2)\n",
    "    print(\"power of \",n,\"is :\",ans)\n",
    "    \n",
    "list=(1,2,3)\n",
    "for i in list:\n",
    "    power(i)\n",
    "\n"
   ]
  },
  {
   "cell_type": "code",
   "execution_count": 22,
   "metadata": {},
   "outputs": [
    {
     "name": "stdout",
     "output_type": "stream",
     "text": [
      "the entered list is :  [2, 7, 8, 5, 1, 9]\n",
      "None\n"
     ]
    }
   ],
   "source": [
    "#prgm to sort unsorted numbers using list\n",
    "list2=[2,7,8,5,1,9]\n",
    "print(\"the entered list is : \",list2)\n",
    "\n",
    "list3=list2.sort()\n",
    "print(list3)"
   ]
  },
  {
   "cell_type": "code",
   "execution_count": 27,
   "metadata": {},
   "outputs": [
    {
     "name": "stdout",
     "output_type": "stream",
     "text": [
      "this is  KEONIS HUBLI  and we opted for the course  AI with python and the timings are from 5:00 pm to 7.00 pm\n"
     ]
    }
   ],
   "source": [
    "#print multiple arguments in python and call a function to display the arguments\n",
    "def ijaz(a,b,c,d):\n",
    "    print(\"this is \",a,\" and we opted for the course \",b,\"and the timings are from\",c,\"to\",d)\n",
    "name='KEONIS HUBLI'\n",
    "course='AI with python'\n",
    "start_time='5:00 pm'\n",
    "end_time='7.00 pm'\n",
    "ijaz(name,course,start_time,end_time)\n"
   ]
  },
  {
   "cell_type": "code",
   "execution_count": 29,
   "metadata": {},
   "outputs": [
    {
     "name": "stdout",
     "output_type": "stream",
     "text": [
      "[0, 1, 1, 2, 3, 5, 8, 13, 21, 34]\n"
     ]
    }
   ],
   "source": [
    "# to find fibaonacci series upto n using lambda expression\n",
    "\n",
    "n=10\n",
    "lambda_list=[]\n",
    "\n",
    "def lambda_fun():\n",
    "    return lambda a,b: a + b\n",
    "\n",
    "for i in range(0,n):\n",
    "        if(i==0):\n",
    "            c=i\n",
    "            lambda_list.append(c)\n",
    "        \n",
    "        elif(i==1):\n",
    "            c=i\n",
    "            lambda_list.append(c)\n",
    "            \n",
    "        elif(i>=2):\n",
    "            a=lambda_list[i-2]\n",
    "            b=lambda_list[i-1]\n",
    "            c=lambda_fun()\n",
    "            d=c(a,b)\n",
    "            lambda_list.append(d)\n",
    "\n",
    "print(lambda_list)\n"
   ]
  }
 ],
 "metadata": {
  "kernelspec": {
   "display_name": "Python 3.10.5 64-bit",
   "language": "python",
   "name": "python3"
  },
  "language_info": {
   "codemirror_mode": {
    "name": "ipython",
    "version": 3
   },
   "file_extension": ".py",
   "mimetype": "text/x-python",
   "name": "python",
   "nbconvert_exporter": "python",
   "pygments_lexer": "ipython3",
   "version": "3.10.5"
  },
  "orig_nbformat": 4,
  "vscode": {
   "interpreter": {
    "hash": "233620a480a916290135efe2c9b4a91076b4cc2f175e2c8afc50594d4d800d97"
   }
  }
 },
 "nbformat": 4,
 "nbformat_minor": 2
}
