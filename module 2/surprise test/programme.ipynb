{
 "cells": [
  {
   "cell_type": "code",
   "execution_count": null,
   "metadata": {},
   "outputs": [
    {
     "name": "stdout",
     "output_type": "stream",
     "text": [
      "power of  1 is : 1\n",
      "power of  2 is : 4\n",
      "power of  3 is : 9\n"
     ]
    }
   ],
   "source": [
    "#python program to find the power of a numbers in a list using a recursion\n",
    "def power(n):\n",
    "    ans=(n**2)\n",
    "    print(\"power of \",n,\"is :\",ans)\n",
    "    \n",
    "list=(1,2,3)\n",
    "for i in list:\n",
    "    power(i)\n",
    "\n"
   ]
  },
  {
   "cell_type": "code",
   "execution_count": null,
   "metadata": {},
   "outputs": [],
   "source": [
    "#prgm to sort unsorted numbers using list\n",
    "list2=[2,7,8,5,1,9]\n",
    "print(\"the entered list is : \",list2)\n",
    "\n",
    "list3=list2.sort()\n",
    "print(list3)"
   ]
  },
  {
   "cell_type": "code",
   "execution_count": null,
   "metadata": {},
   "outputs": [],
   "source": [
    "\n"
   ]
  }
 ],
 "metadata": {
  "kernelspec": {
   "display_name": "Python 3.10.5 64-bit",
   "language": "python",
   "name": "python3"
  },
  "language_info": {
   "codemirror_mode": {
    "name": "ipython",
    "version": 3
   },
   "file_extension": ".py",
   "mimetype": "text/x-python",
   "name": "python",
   "nbconvert_exporter": "python",
   "pygments_lexer": "ipython3",
   "version": "3.10.5"
  },
  "orig_nbformat": 4,
  "vscode": {
   "interpreter": {
    "hash": "233620a480a916290135efe2c9b4a91076b4cc2f175e2c8afc50594d4d800d97"
   }
  }
 },
 "nbformat": 4,
 "nbformat_minor": 2
}
