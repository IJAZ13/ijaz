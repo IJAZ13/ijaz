{
 "cells": [
  {
   "cell_type": "code",
   "execution_count": 12,
   "metadata": {},
   "outputs": [
    {
     "name": "stdout",
     "output_type": "stream",
     "text": [
      "360\n"
     ]
    }
   ],
   "source": [
    "\n",
    "def fun(list1):\n",
    "    result=0\n",
    "    for index in range(len(list1)):\n",
    "        result= result+list1[index]\n",
    "    print(result)\n",
    "\n",
    "\n",
    "list1=[10,20,30]\n",
    "fun(list1)"
   ]
  },
  {
   "cell_type": "code",
   "execution_count": 19,
   "metadata": {},
   "outputs": [
    {
     "name": "stdout",
     "output_type": "stream",
     "text": [
      "{10: 'a', 20: 'b', 30: 'c'}\n"
     ]
    }
   ],
   "source": [
    "#function to merge to list as group of one name and number\n",
    "def merge_fun(list1,list2):\n",
    "    merged_list3=zip(list1,list2)\n",
    "    print(dict(merged_list3))\n",
    "\n",
    "\n",
    "    \n",
    "\n",
    "\n",
    "list1=[10,20,30]\n",
    "list2=['a','b','c']\n",
    "merge_fun(list1,list2)\n"
   ]
  }
 ],
 "metadata": {
  "kernelspec": {
   "display_name": "Python 3.10.5 64-bit",
   "language": "python",
   "name": "python3"
  },
  "language_info": {
   "codemirror_mode": {
    "name": "ipython",
    "version": 3
   },
   "file_extension": ".py",
   "mimetype": "text/x-python",
   "name": "python",
   "nbconvert_exporter": "python",
   "pygments_lexer": "ipython3",
   "version": "3.10.5"
  },
  "orig_nbformat": 4,
  "vscode": {
   "interpreter": {
    "hash": "233620a480a916290135efe2c9b4a91076b4cc2f175e2c8afc50594d4d800d97"
   }
  }
 },
 "nbformat": 4,
 "nbformat_minor": 2
}
