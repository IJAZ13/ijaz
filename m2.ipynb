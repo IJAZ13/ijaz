{
 "cells": [
  {
   "cell_type": "code",
   "execution_count": 6,
   "metadata": {},
   "outputs": [
    {
     "name": "stdout",
     "output_type": "stream",
     "text": [
      "output of read(0) functions is\n",
      "HELLO \n",
      "this is delhi \n",
      "this is paris \n",
      "this is london \n",
      "\n",
      "\n",
      "output of read(9) function is\n",
      "HELLO \n",
      "th\n",
      "\n",
      "output of readline(9) function is\n",
      "HELLO \n",
      "\n",
      "output of readline function is \n",
      "HELLO \n",
      "\n",
      "\n"
     ]
    }
   ],
   "source": [
    "#prgm to show various ways to read and write\n",
    "#write data in file\n",
    "file1=open(\"myfile.txt\",\"w\")\n",
    "L=[\"this is delhi \\n\",\"this is paris \\n\",\"this is london \\n\"]\n",
    "\n",
    "#\\n is placed to indicate EOL(END OF LINE)\n",
    "file1.write(\"HELLO \\n\")\n",
    "file1.writelines(L)\n",
    "file1.close() #to change file access modes\n",
    "\n",
    "file1= open(\"myfile.txt\",\"r+\")\n",
    "print(\"output of read(0) functions is\")\n",
    "print(file1.read())\n",
    "print()\n",
    "#seek(n) takes the file handle\n",
    "#bite from the beginning\n",
    "file1.seek(0)\n",
    "\n",
    "#to show difference between read and readline\n",
    "print(\"output of read(9) function is\")\n",
    "print(file1.read(9))\n",
    "print()\n",
    "file1.seek(0)\n",
    "print(\"output of readline(9) function is\")\n",
    "print(file1.readline(9))\n",
    "file1.seek(0)\n",
    "#readline function\n",
    "print(\"output of readline function is \")\n",
    "print(file1.readline())\n",
    "print()\n",
    "file1.close()\n",
    "\n"
   ]
  }
 ],
 "metadata": {
  "kernelspec": {
   "display_name": "Python 3.10.5 64-bit",
   "language": "python",
   "name": "python3"
  },
  "language_info": {
   "codemirror_mode": {
    "name": "ipython",
    "version": 3
   },
   "file_extension": ".py",
   "mimetype": "text/x-python",
   "name": "python",
   "nbconvert_exporter": "python",
   "pygments_lexer": "ipython3",
   "version": "3.10.5"
  },
  "orig_nbformat": 4,
  "vscode": {
   "interpreter": {
    "hash": "233620a480a916290135efe2c9b4a91076b4cc2f175e2c8afc50594d4d800d97"
   }
  }
 },
 "nbformat": 4,
 "nbformat_minor": 2
}
