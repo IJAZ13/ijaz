{
 "cells": [
  {
   "cell_type": "code",
   "execution_count": 1,
   "metadata": {},
   "outputs": [
    {
     "data": {
      "image/png": "[encoded data removed]",
      "text/plain": [
       "<Figure size 432x432 with 1 Axes>"
      ]
     },
     "metadata": {
      "needs_background": "light"
     },
     "output_type": "display_data"
    }
   ],
   "source": [
    "\n",
    "import numpy as np\n",
    "import matplotlib.pyplot as pit\n",
    "vec=np.array([[-3],[2]])\n",
    "origin=np.zeros(vec.shape)\n",
    "pit.figure(figsize =(6,6))\n",
    "pit.quiver(*origin,*vec,color=['b'],scale=1,units='xy')\n",
    "pit.grid()\n",
    "pit.xlim(-5,5)\n",
    "pit.ylim(-5,5)\n",
    "# pit.gca()set_aspect('equal')\n",
    "pit.show()\n"
   ]
  },
  {
   "cell_type": "code",
   "execution_count": 5,
   "metadata": {},
   "outputs": [
    {
     "data": {
      "image/png": "[encoded data removed]",
      "text/plain": [
       "<Figure size 432x432 with 1 Axes>"
      ]
     },
     "metadata": {
      "needs_background": "light"
     },
     "output_type": "display_data"
    }
   ],
   "source": [
    "import numpy as np\n",
    "import matplotlib.pyplot as pit\n",
    "vec=np.array([[-3],[2]])\n",
    "origin=np.zeros(vec.shape)\n",
    "pit.figure(figsize =(6,6))\n",
    "pit.quiver(*origin,*vec,color=['b'],scale=1,units='xy')\n",
    "pit.grid()\n",
    "pit.xlim(-5,5)\n",
    "pit.ylim(-5,5)\n",
    "# pit.gca()set_aspect('equal')\n",
    "pit.show()\n",
    "\n"
   ]
  },
  {
   "cell_type": "code",
   "execution_count": 20,
   "metadata": {},
   "outputs": [
    {
     "name": "stdout",
     "output_type": "stream",
     "text": [
      "[[ 6.123234e-17  1.000000e+00]\n",
      " [-1.000000e+00  6.123234e-17]]\n"
     ]
    }
   ],
   "source": [
    "import numpy as np\n",
    "import matplotlib.pyplot as pit\n",
    "theta =np.radians(-90)\n",
    "r= np.zeros((2,2))\n",
    "r[0,0]=np.cos((theta))\n",
    "r[0,1]=-np.sin((theta))\n",
    "r[1,0]=np.sin((theta))\n",
    "r[1,1]=np.cos((theta))\n",
    "print(r)\n",
    "\n",
    "new=np.zeros(vec.shape)\n",
    "new[0]=r[1,1]*vec[0]+r[0,1]*vec[1]\n",
    "new[1]=r[1,0]*vec[0]+r[0,0]*vec[1]\n",
    "#numpy allows us to do vector-matrix multiplication much faster\n",
    "new=r.dot(vec)\n",
    "\n",
    "origin=np.zeros(new.shape)\n",
    "plt.figure(figsize=(6,6))\n",
    "plt.quiver(*origin,*)\n",
    "\n",
    "\n"
   ]
  }
 ],
 "metadata": {
  "kernelspec": {
   "display_name": "Python 3.10.5 64-bit",
   "language": "python",
   "name": "python3"
  },
  "language_info": {
   "codemirror_mode": {
    "name": "ipython",
    "version": 3
   },
   "file_extension": ".py",
   "mimetype": "text/x-python",
   "name": "python",
   "nbconvert_exporter": "python",
   "pygments_lexer": "ipython3",
   "version": "3.10.5"
  },
  "orig_nbformat": 4,
  "vscode": {
   "interpreter": {
    "hash": "233620a480a916290135efe2c9b4a91076b4cc2f175e2c8afc50594d4d800d97"
   }
  }
 },
 "nbformat": 4,
 "nbformat_minor": 2
}
